{
 "cells": [
  {
   "cell_type": "code",
   "execution_count": 1,
   "metadata": {
    "collapsed": true
   },
   "outputs": [],
   "source": [
    "import json\n",
    "\n",
    "import folium\n",
    "import numpy as np\n",
    "import pandas as pd\n",
    "\n",
    "from scipy.interpolate import interp1d"
   ]
  },
  {
   "cell_type": "code",
   "execution_count": 46,
   "metadata": {},
   "outputs": [],
   "source": [
    "# Se sacan los del 13 y 14 porque no tienen bloque\n",
    "\n",
    "df12 = pd.read_csv('viajes_2012.csv')\n",
    "#df13 = pd.read_csv('viajes_2013.csv')\n",
    "#df14 = pd.read_csv('viajes_2014.csv')\n",
    "df15 = pd.read_csv('viajes_2015.csv')\n",
    "df16 = pd.read_csv('viajes_2016.csv')\n",
    "df17 = pd.read_csv('viajes_2017.csv')\n",
    "\n",
    "colores = {'PJ Frente para la Victoria': '#a6cee3', 'Unión Cívica Radical':'#1f78b4',\n",
    "'PJ La Pampa':'#b2df8a', 'Justicialista San Luis':'#33a02c',\n",
    " 'Movimiento Popular Neuquino':'#fb9a99', 'Frente Cívico por Santiago':'#e31a1c',\n",
    " 'Partido Socialista':'#fdbf6f', 'otros':'#ff7f00'}"
   ]
  },
  {
   "cell_type": "code",
   "execution_count": 40,
   "metadata": {},
   "outputs": [],
   "source": [
    "# Unimos los df\n",
    "df = pd.concat([df12, df15, df16, df17])"
   ]
  },
  {
   "cell_type": "code",
   "execution_count": 27,
   "metadata": {},
   "outputs": [],
   "source": [
    "def check_dato(destino, bloque, list_datos, origen='Argentina'):\n",
    "    for dato in list_datos:\n",
    "        if destino == dato['destino'] and bloque == dato['bloque'] and origen == dato['origen']:\n",
    "            dato['count'] = dato['count'] + 1\n",
    "            return True\n",
    "    if not '/' in destino:\n",
    "        viaje = {'destino':destino, 'bloque':bloque, 'origen':origen, 'count':1}\n",
    "        list_datos.append(viaje)\n",
    "    else:\n",
    "        # Atajo los dos casos\n",
    "        if ' / ' in destino:\n",
    "            escala, destino = destino.split(' / ', maxsplit=1)\n",
    "        elif '/' in destino:\n",
    "            escala, destino = destino.split('/', maxsplit=1)\n",
    "        check_dato(destino, bloque, list_datos, escala)\n",
    "    return True\n",
    "\n",
    "datos = []\n",
    "for i in df.itertuples():\n",
    "    check_dato(i.Destino, i.Bloque, datos)\n",
    "    \n",
    "count_viajes_x_destino_bloque = pd.DataFrame(datos)"
   ]
  },
  {
   "cell_type": "code",
   "execution_count": 28,
   "metadata": {},
   "outputs": [
    {
     "data": {
      "text/plain": [
       "array(['Chile', 'México', 'Costa Rica', 'Francia', 'Italia', 'Uganda',\n",
       "       'Estados Unidos', 'Uruguay', 'Colombia', 'Alemania', 'Ecuador',\n",
       "       'Turquía', 'Panamá', 'Suiza', 'Holanda', 'Perú', 'Brasil',\n",
       "       'República Dominicana', 'Israel', 'Canadá', 'Venezuela', 'España',\n",
       "       'Cuba', 'Suecia', 'Grecia', 'Bolivia', 'Reino Unido', 'Corea',\n",
       "       'Armenia', 'Puerto Rico', 'Bélgica', 'Letonia', 'Sudáfrica',\n",
       "       'Rusia', 'Paraguay', 'Reino Unido de Gran Bretaña',\n",
       "       'Guyana Francesa', 'República Checa', 'Portugal', 'Aruba',\n",
       "       'Irlanda', 'Emiratos Árabes Unidos', 'Reino Unido de Gran  Bretaña',\n",
       "       ' Irlanda del Norte', 'Estados Unidos de América',\n",
       "       'República de Azerbaiyán', 'Bangladesh'], dtype=object)"
      ]
     },
     "execution_count": 28,
     "metadata": {},
     "output_type": "execute_result"
    }
   ],
   "source": [
    "count_viajes_x_destino_bloque.destino.unique()"
   ]
  },
  {
   "cell_type": "code",
   "execution_count": 29,
   "metadata": {
    "collapsed": true
   },
   "outputs": [],
   "source": [
    "df_counts = df.groupby('Destino')['Destino'].count()\n",
    "\n",
    "countries_destino = set([country for country in count_viajes_x_destino_bloque.destino])\n",
    "countries_origen = set([country for country in count_viajes_x_destino_bloque.origen])\n",
    "countries = countries_destino.union(countries_origen)\n",
    "# Elimino algos repetidos (con un espacil al principo)\n",
    "list_countries = list(countries)"
   ]
  },
  {
   "cell_type": "code",
   "execution_count": 30,
   "metadata": {},
   "outputs": [],
   "source": [
    "# Lat lon del centro de cada pais\n",
    "with open('centro_paises.geojson', 'r') as file:\n",
    "    data = json.load(file)"
   ]
  },
  {
   "cell_type": "code",
   "execution_count": 31,
   "metadata": {},
   "outputs": [
    {
     "data": {
      "text/plain": [
       "{'Alemania': {'latlon': [51.0871017663336, 10.370787457775123]},\n",
       " 'Argentina': {'latlon': [-35.18209766247696, -65.1548248323]},\n",
       " 'Armenia': {'latlon': [40.28859678761182, 44.9317308780777]},\n",
       " 'Bangladesh': {'latlon': [23.88242325782727, 90.22663495543901]},\n",
       " 'Bolivia': {'latlon': [-16.706876766549385, -64.68475359110516]},\n",
       " 'Brasil': {'latlon': [-16.452174485463956, -47.50483868565664]},\n",
       " 'Bélgica': {'latlon': [50.83668469454318, 4.370396733222833]},\n",
       " 'Canadá': {'latlon': [59.65683609990623, -117.09059449134253]},\n",
       " 'Chile': {'latlon': [-35.44787283276486, -71.24781565426889]},\n",
       " 'Colombia': {'latlon': [3.911188855381511, -73.07834068147713]},\n",
       " 'Costa Rica': {'latlon': [9.974655552412003, -84.19202644686288]},\n",
       " 'Cuba': {'latlon': [22.093377645162377, -79.54124915322569]},\n",
       " 'Ecuador': {'latlon': [-1.448279428452679, -78.39002628888198]},\n",
       " 'Emiratos Árabes Unidos': {'latlon': [23.43367363652925, 53.97651207707088]},\n",
       " 'España': {'latlon': [40.40029669653546, -3.566448279164604]},\n",
       " 'Estados Unidos': {'latlon': [39.6892552859029, -106.71056584313902]},\n",
       " 'Francia': {'latlon': [46.62237366531258, 2.449486512892406]},\n",
       " 'Grecia': {'latlon': [39.47499718996852, 22.581857843165096]},\n",
       " 'Irlanda': {'latlon': [53.17669234237786, -8.138264403779033]},\n",
       " 'Israel': {'latlon': [31.028641443248148, 34.657992593483584]},\n",
       " 'Italia': {'latlon': [45.23561638578775, 9.581412900784926]},\n",
       " 'Japón': {'latlon': [36.65362538180608, 139.26813805372842]},\n",
       " 'Letonia': {'latlon': [56.633417305664295, 26.40511559780674]},\n",
       " 'México': {'latlon': [23.940958892339154, -102.50662121099992]},\n",
       " 'Panamá': {'latlon': [9.074346360995946, -78.63576391647143]},\n",
       " 'Paraguay': {'latlon': [-23.227518831328837, -58.39842286262484]},\n",
       " 'Perú': {'latlon': [-13.58782829723799, -71.85199286188094]},\n",
       " 'Portugal': {'latlon': [39.678798984485695, -7.978030682170072]},\n",
       " 'Reino Unido de Gran Bretaña': {'latlon': [52.601885382104854,\n",
       "   -1.460467598400783]},\n",
       " 'Rusia': {'latlon': [60.06655395370217, 63.152100419498936]},\n",
       " 'Sudáfrica': {'latlon': [-29.009215741912783, 25.15924152977294]},\n",
       " 'Suecia': {'latlon': [60.594601666933556, 14.37197706578911]},\n",
       " 'Suiza': {'latlon': [46.97259012423501, 8.210718017522652]},\n",
       " 'Turquía': {'latlon': [38.98957968355569, 35.423547472038365]},\n",
       " 'Uganda': {'latlon': [1.275691289321685, 32.367039930748376]},\n",
       " 'Uruguay': {'latlon': [-32.800158283377925, -56.017869705722205]},\n",
       " 'Venezuela': {'latlon': [7.267615149519713, -63.209483297416114]}}"
      ]
     },
     "execution_count": 31,
     "metadata": {},
     "output_type": "execute_result"
    }
   ],
   "source": [
    "countries = dict()\n",
    "for feature in data['features']:\n",
    "    nombre = feature['properties']['nombre']\n",
    "    if nombre in list_countries:\n",
    "        countries[nombre] = {'latlon': [feature['geometry']['coordinates'][1],\n",
    "                                        feature['geometry']['coordinates'][0]]}\n",
    "        \n",
    "countries"
   ]
  },
  {
   "cell_type": "code",
   "execution_count": 62,
   "metadata": {},
   "outputs": [
    {
     "data": {
      "text/plain": [
       "([-35.18209766247696, -65.1548248323], [51.0871017663336, 10.370787457775123])"
      ]
     },
     "execution_count": 62,
     "metadata": {},
     "output_type": "execute_result"
    }
   ],
   "source": [
    "countries['Argentina']['latlon'], countries['Alemania']['latlon']"
   ]
  },
  {
   "cell_type": "code",
   "execution_count": null,
   "metadata": {},
   "outputs": [],
   "source": [
    "atribution = ('Map data &copy; <a href=\"http://openstreetmap.org\">OpenStreetMap</a> '\n",
    "              'contributors, <a href=\"http://creativecommons.org/licenses/by-sa/2.0/\">'\n",
    "              'CC-BY-SA</a>, Imagery © <a href=\"http://mapbox.com\">Mapbox</a>')\n",
    "\n",
    "my_map = folium.Map(location=[45.372, -121.6972],\n",
    "                   zoom_start=2,\n",
    "                   tiles='https://{s}.tile.openstreetmap.org/{z}/{x}/{y}.png',\n",
    "                   attr=atribution)\n",
    "\n",
    "# Countries markers\n",
    "for country in list_countries:\n",
    "    # Marker\n",
    "    try:\n",
    "        text = \"{0}\".format(country)\n",
    "        folium.Marker(countries[country]['latlon'], \n",
    "                  popup=text).add_to(my_map)\n",
    "    except:\n",
    "        pass\n",
    "# Add Argentina marker\n",
    "#folium.Marker(origin, popup='Argentina').add_to(my_map)\n",
    "\n",
    "# Connection lines\n",
    "for i in count_viajes_x_destino_bloque.itertuples():\n",
    "    try:\n",
    "        lat = np.linspace(countries[i.origen]['latlon'][0], countries[i.destino]['latlon'][0], 3)\n",
    "        lon = np.linspace(countries[i.origen]['latlon'][1], countries[i.destino]['latlon'][1], 3)\n",
    "\n",
    "        # los paises que esta muy juntos los conecto por una recta\n",
    "        if lat.max() - lat.min() > 5:\n",
    "            lat[1] = lat[1] + np.random.choice([-1, 1])*(lat.max() - lat.min())/np.random.choice([4, 5])\n",
    "            lon[1] = lon[1] + np.random.choice([-1, 1])*np.random.random()*15\n",
    "            f2 = interp1d(lat, lon, kind='quadratic')\n",
    "            #\n",
    "            xnew = np.linspace(lat.min(), lat.max(), num=41, endpoint=True)\n",
    "            coordinates = [[x, y] for x, y in zip(xnew, f2(xnew))]\n",
    "        else:\n",
    "            coordinates = [[x, y] for x, y in zip(lat, lon)]\n",
    "\n",
    "        # Asignamos los colores si estan en los principales bloques\n",
    "        if i.bloque in colores.keys():\n",
    "            color = colores[i.bloque]\n",
    "        else:\n",
    "            color = colores['otros']\n",
    "\n",
    "        folium.PolyLine(coordinates, weight=i.count, color=color).add_to(my_map)\n",
    "    except:\n",
    "        pass\n",
    "my_map"
   ]
  },
  {
   "cell_type": "code",
   "execution_count": null,
   "metadata": {
    "collapsed": true
   },
   "outputs": [],
   "source": []
  }
 ],
 "metadata": {
  "kernelspec": {
   "display_name": "Python 3",
   "language": "python",
   "name": "python3"
  },
  "language_info": {
   "codemirror_mode": {
    "name": "ipython",
    "version": 3
   },
   "file_extension": ".py",
   "mimetype": "text/x-python",
   "name": "python",
   "nbconvert_exporter": "python",
   "pygments_lexer": "ipython3",
   "version": "3.5.2"
  }
 },
 "nbformat": 4,
 "nbformat_minor": 2
}
